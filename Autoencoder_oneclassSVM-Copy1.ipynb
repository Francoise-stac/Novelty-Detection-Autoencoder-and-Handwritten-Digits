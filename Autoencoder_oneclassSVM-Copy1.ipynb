{
 "cells": [
  {
   "cell_type": "code",
   "execution_count": 1,
   "id": "482a2347-9b93-4391-94b8-dad06ee58e89",
   "metadata": {},
   "outputs": [
    {
     "name": "stdout",
     "output_type": "stream",
     "text": [
      "Epoch 1/10\n",
      "235/235 [==============================] - 2s 6ms/step - loss: 0.2759 - val_loss: 0.1868\n",
      "Epoch 2/10\n",
      "235/235 [==============================] - 1s 5ms/step - loss: 0.1683 - val_loss: 0.1510\n",
      "Epoch 3/10\n",
      "235/235 [==============================] - 1s 6ms/step - loss: 0.1419 - val_loss: 0.1320\n",
      "Epoch 4/10\n",
      "235/235 [==============================] - 1s 5ms/step - loss: 0.1271 - val_loss: 0.1203\n",
      "Epoch 5/10\n",
      "235/235 [==============================] - 1s 5ms/step - loss: 0.1176 - val_loss: 0.1126\n",
      "Epoch 6/10\n",
      "235/235 [==============================] - 1s 5ms/step - loss: 0.1110 - val_loss: 0.1070\n",
      "Epoch 7/10\n",
      "235/235 [==============================] - 1s 5ms/step - loss: 0.1061 - val_loss: 0.1029\n",
      "Epoch 8/10\n",
      "235/235 [==============================] - 1s 5ms/step - loss: 0.1024 - val_loss: 0.0996\n",
      "Epoch 9/10\n",
      "235/235 [==============================] - 1s 5ms/step - loss: 0.0997 - val_loss: 0.0973\n",
      "Epoch 10/10\n",
      "235/235 [==============================] - 1s 5ms/step - loss: 0.0977 - val_loss: 0.0957\n",
      "313/313 [==============================] - 1s 1ms/step\n"
     ]
    },
    {
     "data": {
      "image/png": "[encoded data removed]",
      "text/plain": [
       "<Figure size 2000x400 with 20 Axes>"
      ]
     },
     "metadata": {},
     "output_type": "display_data"
    }
   ],
   "source": [
    "import numpy as np\n",
    "import matplotlib.pyplot as plt\n",
    "from tensorflow.keras.datasets import mnist\n",
    "from tensorflow.keras.models import Model\n",
    "from tensorflow.keras.layers import Input, Dense\n",
    "\n",
    "# Charger le jeu de données MNIST\n",
    "(x_train, _), (x_test, _) = mnist.load_data()\n",
    "\n",
    "# Normaliser les pixels entre 0 et 1\n",
    "x_train = x_train.astype('float32') / 255.0\n",
    "x_test = x_test.astype('float32') / 255.0\n",
    "\n",
    "# Aplatir les images pour les utiliser dans un autoencodeur entièrement connecté\n",
    "x_train = x_train.reshape((len(x_train), np.prod(x_train.shape[1:])))\n",
    "x_test = x_test.reshape((len(x_test), np.prod(x_test.shape[1:])))\n",
    "\n",
    "# Taille de la couche d'encodage\n",
    "encoding_dim = 32\n",
    "\n",
    "# Entrée\n",
    "input_img = Input(shape=(784,))\n",
    "\n",
    "# Encodeur\n",
    "encoded = Dense(encoding_dim, activation='relu')(input_img)\n",
    "\n",
    "# Décodeur\n",
    "decoded = Dense(784, activation='sigmoid')(encoded)\n",
    "\n",
    "# Modèle d'autoencodeur\n",
    "autoencoder = Model(input_img, decoded)\n",
    "\n",
    "# Compilez le modèle\n",
    "autoencoder.compile(optimizer='adam', loss='binary_crossentropy')\n",
    "\n",
    "# Entraînez l'autoencodeur sur le jeu d'apprentissage MNIST\n",
    "autoencoder.fit(x_train, x_train, epochs=10, batch_size=256, shuffle=True, validation_data=(x_test, x_test))\n",
    "\n",
    "# Encoder pour obtenir des représentations compressées\n",
    "encoder = Model(input_img, encoded)\n",
    "\n",
    "# Encoder les images de test\n",
    "encoded_imgs = encoder.predict(x_test)\n",
    "\n",
    "# Fonction pour afficher des images avant et après l'encodage / décodage\n",
    "def plot_results(x_test, encoded_imgs):\n",
    "    n = 10  # Nombre d'images à afficher\n",
    "    plt.figure(figsize=(20, 4))\n",
    "    for i in range(n):\n",
    "        # Afficher l'image d'origine\n",
    "        ax = plt.subplot(2, n, i + 1)\n",
    "        plt.imshow(x_test[i].reshape(28, 28))\n",
    "        plt.gray()\n",
    "        ax.get_xaxis().set_visible(False)\n",
    "        ax.get_yaxis().set_visible(False)\n",
    "\n",
    "        # Afficher l'image encodée / décodée\n",
    "        ax = plt.subplot(2, n, i + 1 + n)\n",
    "        plt.imshow(encoded_imgs[i].reshape(8, 4))  # Réduire la dimension pour l'affichage\n",
    "        plt.gray()\n",
    "        ax.get_xaxis().set_visible(False)\n",
    "        ax.get_yaxis().set_visible(False)\n",
    "\n",
    "    plt.show()\n",
    "\n",
    "# Afficher les résultats\n",
    "plot_results(x_test, encoded_imgs)\n"
   ]
  },
  {
   "cell_type": "code",
   "execution_count": 5,
   "id": "6ca13592-cc71-45cb-b365-fda22f1b9763",
   "metadata": {},
   "outputs": [
    {
     "name": "stdout",
     "output_type": "stream",
     "text": [
      "Accuracy on test set: 0.9078571428571428\n"
     ]
    }
   ],
   "source": [
    "import numpy as np\n",
    "import matplotlib.pyplot as plt\n",
    "from tensorflow.keras.datasets import mnist\n",
    "from sklearn.model_selection import train_test_split\n",
    "from sklearn.preprocessing import StandardScaler\n",
    "from sklearn.svm import OneClassSVM\n",
    "from sklearn.metrics import accuracy_score\n",
    "\n",
    "# Charger le jeu de données MNIST\n",
    "(x_train, _), (_, _) = mnist.load_data()\n",
    "\n",
    "# Normaliser les pixels entre 0 et 1\n",
    "x_train = x_train.astype('float32') / 255.0\n",
    "\n",
    "# Aplatir les images\n",
    "x_train_flat = x_train.reshape((len(x_train), np.prod(x_train.shape[1:])))\n",
    "\n",
    "# Créer un jeu de données d'anomalies/nouveautés\n",
    "# Ici, j'utilise des images aléatoires, mais vous pouvez les remplacer par votre propre dataset\n",
    "random_images = np.random.rand(10000, 28, 28)\n",
    "anomalies = random_images.reshape((len(random_images), np.prod(random_images.shape[1:])))\n",
    "\n",
    "# Concaténer le jeu de données MNIST avec le jeu d'anomalies\n",
    "x_combined = np.concatenate([x_train_flat, anomalies])\n",
    "\n",
    "# Créer les étiquettes correspondantes (1 pour MNIST, -1 pour anomalies)\n",
    "y_combined = np.concatenate([np.ones(len(x_train_flat)), -np.ones(len(anomalies))])\n",
    "\n",
    "# Diviser le jeu de données en ensembles d'entraînement et de test\n",
    "X_train, X_test, y_train, y_test = train_test_split(x_combined, y_combined, test_size=0.2, random_state=42)\n",
    "\n",
    "# Normaliser les données\n",
    "scaler = StandardScaler()\n",
    "X_train = scaler.fit_transform(X_train)\n",
    "X_test = scaler.transform(X_test)\n",
    "\n",
    "# Entraîner le modèle One-Class SVM\n",
    "clf = OneClassSVM(nu=0.1)\n",
    "clf.fit(X_train)\n",
    "\n",
    "# Prédiction sur le jeu de test\n",
    "y_pred = clf.predict(X_test)\n",
    "\n",
    "# Étiquettes réelles du jeu de test\n",
    "y_true = np.ones_like(y_test)\n",
    "y_true[y_test == -1] = -1\n",
    "\n",
    "# Évaluer la précision sur le jeu de test\n",
    "accuracy_test = accuracy_score(y_true, y_pred)\n",
    "print(f\"Accuracy on test set: {accuracy_test}\")\n"
   ]
  },
  {
   "cell_type": "markdown",
   "id": "a2e4142c-9e9b-4423-9e1d-c788d7d5538e",
   "metadata": {},
   "source": [
    "\n",
    "# Charger le jeu de données MNIST"
   ]
  },
  {
   "cell_type": "code",
   "execution_count": 18,
   "id": "b5157fbe-bf79-49f4-880c-73d31b76d744",
   "metadata": {},
   "outputs": [
    {
     "data": {
      "text/plain": [
       "(60000, 28, 28)"
      ]
     },
     "execution_count": 18,
     "metadata": {},
     "output_type": "execute_result"
    }
   ],
   "source": [
    "import numpy as np\n",
    "import matplotlib.pyplot as plt\n",
    "from tensorflow.keras.datasets import mnist\n",
    "from sklearn.model_selection import train_test_split\n",
    "from sklearn.preprocessing import StandardScaler\n",
    "from sklearn.svm import OneClassSVM\n",
    "from sklearn.metrics import accuracy_score\n",
    "from tensorflow.keras.models import Sequential, Model\n",
    "from tensorflow.keras.layers import Input, Dense, Conv2D, MaxPooling2D, UpSampling2D, Flatten, Reshape\n",
    "\n",
    "# Charger le jeu de données MNIST\n",
    "(x_train, _), (_, _) = mnist.load_data()\n",
    "\n",
    "x_train.shape"
   ]
  },
  {
   "cell_type": "markdown",
   "id": "582ed6c2-57fb-47ce-afe9-e93884bace14",
   "metadata": {},
   "source": [
    "# Normaliser les pixels entre 0 et 1"
   ]
  },
  {
   "cell_type": "code",
   "execution_count": 25,
   "id": "f2e866e4-fc39-4cc5-92b4-b4f2caa03538",
   "metadata": {},
   "outputs": [],
   "source": [
    "# Normaliser les pixels entre 0 et 1\n",
    "x_train = x_train.astype('float32') / 255.0\n",
    "\n",
    "# Diviser le jeu de données en ensembles d'entraînement et de test\n",
    "X_train, X_test, _, _ = train_test_split(x_train, x_train, test_size=0.2, random_state=42)"
   ]
  },
  {
   "cell_type": "markdown",
   "id": "8a7020f4-4de8-4abd-8869-0bab0f13ddff",
   "metadata": {},
   "source": [
    "## Créer un jeu de données d'anomalies/nouveautés"
   ]
  },
  {
   "cell_type": "code",
   "execution_count": 19,
   "id": "2dfc8a37-6cdf-4a18-90bd-cd1a30ab028a",
   "metadata": {},
   "outputs": [
    {
     "data": {
      "text/plain": [
       "(10000, 28, 28)"
      ]
     },
     "execution_count": 19,
     "metadata": {},
     "output_type": "execute_result"
    }
   ],
   "source": [
    "\n",
    "\n",
    "# Ici, j'utilise des images aléatoires, mais vous pouvez les remplacer par votre propre dataset\n",
    "random_images = np.random.rand(10000, 28, 28)\n",
    "# anomalies = random_images.reshape((len(random_images), np.prod(random_images.shape[1:])))\n",
    "\n",
    "anomalies = random_images.astype('float32') / 255.0\n",
    "anomalies.shape"
   ]
  },
  {
   "cell_type": "markdown",
   "id": "84557c8c-ee99-4cfb-8f11-9ee347cd6347",
   "metadata": {},
   "source": [
    "### Concaténer le jeu de données MNIST avec le jeu d'anomalies"
   ]
  },
  {
   "cell_type": "code",
   "execution_count": 26,
   "id": "e262a1d6-5b60-410a-b28a-23ceef352be0",
   "metadata": {},
   "outputs": [
    {
     "data": {
      "text/plain": [
       "(22000, 28, 28)"
      ]
     },
     "execution_count": 26,
     "metadata": {},
     "output_type": "execute_result"
    }
   ],
   "source": [
    "\n",
    "# Concaténer le jeu de données MNIST avec le jeu d'anomalies\n",
    "x_combined = np.concatenate([X_test, anomalies])\n",
    "x_combined.shape"
   ]
  },
  {
   "cell_type": "markdown",
   "id": "981a721d-11f4-40cf-b722-b21e64a54fe0",
   "metadata": {},
   "source": [
    "### Aplatir les images train et test et les normaliser"
   ]
  },
  {
   "cell_type": "code",
   "execution_count": 23,
   "id": "0e05e23c-4dbb-4b1b-9fee-8e923d20d059",
   "metadata": {},
   "outputs": [],
   "source": [
    "# Aplatir les images et les normaliser\n",
    "X_train = X_train.reshape((len(X_train), 28, 28, 1))\n",
    "X_test = x_combined.reshape((len(x_combined), 28, 28, 1))\n",
    "X_train = X_train / 255.0\n",
    "X_test = X_test / 255.0\n"
   ]
  },
  {
   "cell_type": "code",
   "execution_count": 27,
   "id": "620ddd8e-44d7-4d41-b215-e205c0b7ad94",
   "metadata": {},
   "outputs": [
    {
     "data": {
      "text/plain": [
       "((48000, 28, 28), (12000, 28, 28))"
      ]
     },
     "execution_count": 27,
     "metadata": {},
     "output_type": "execute_result"
    }
   ],
   "source": [
    "X_train.shape,X_test.shape"
   ]
  },
  {
   "cell_type": "markdown",
   "id": "85a2964f-7b4c-4cce-b7bc-01d2be73466b",
   "metadata": {},
   "source": [
    "# Créer un autoencodeur convolutionnel"
   ]
  },
  {
   "cell_type": "code",
   "execution_count": 28,
   "id": "bdc460eb-35b2-4d89-a869-34bfef8c10d9",
   "metadata": {},
   "outputs": [],
   "source": [
    "\n",
    "# Créer un autoencodeur convolutionnel\n",
    "input_img = Input(shape=(28, 28, 1))\n",
    "x = Conv2D(16, (3, 3), activation='relu', padding='same')(input_img)\n",
    "x = MaxPooling2D((2, 2), padding='same')(x)\n",
    "x = Conv2D(8, (3, 3), activation='relu', padding='same')(x)\n",
    "x = MaxPooling2D((2, 2), padding='same')(x)\n",
    "x = Conv2D(8, (3, 3), activation='relu', padding='same')(x)\n",
    "encoded = MaxPooling2D((2, 2), padding='same')(x)\n",
    "\n",
    "x = Conv2D(8, (3, 3), activation='relu', padding='same')(encoded)\n",
    "x = UpSampling2D((2, 2))(x)\n",
    "x = Conv2D(8, (3, 3), activation='relu', padding='same')(x)\n",
    "x = UpSampling2D((2, 2))(x)\n",
    "x = Conv2D(16, (3, 3), activation='relu')(x)\n",
    "x = UpSampling2D((2, 2))(x)\n",
    "decoded = Conv2D(1, (3, 3), activation='sigmoid', padding='same')(x)\n",
    "\n",
    "autoencoder = Model(input_img, decoded)\n",
    "autoencoder.compile(optimizer='adam', loss='binary_crossentropy')"
   ]
  },
  {
   "cell_type": "markdown",
   "id": "051057a4-90fc-47f5-91d1-1fa50ef33a17",
   "metadata": {},
   "source": [
    "\n",
    "## Entraîner l'autoencodeur sur le jeu d'entraînement (sans anomalies)"
   ]
  },
  {
   "cell_type": "code",
   "execution_count": 29,
   "id": "80e55ad3-695d-4bf7-8932-2f166438a06f",
   "metadata": {},
   "outputs": [
    {
     "name": "stdout",
     "output_type": "stream",
     "text": [
      "Epoch 1/10\n",
      "375/375 [==============================] - 32s 82ms/step - loss: 0.2357 - val_loss: 0.1545\n",
      "Epoch 2/10\n",
      "375/375 [==============================] - 33s 88ms/step - loss: 0.1421 - val_loss: 0.1333\n",
      "Epoch 3/10\n",
      "375/375 [==============================] - 33s 87ms/step - loss: 0.1287 - val_loss: 0.1249\n",
      "Epoch 4/10\n",
      "375/375 [==============================] - 32s 86ms/step - loss: 0.1221 - val_loss: 0.1198\n",
      "Epoch 5/10\n",
      "375/375 [==============================] - 31s 84ms/step - loss: 0.1182 - val_loss: 0.1166\n",
      "Epoch 6/10\n",
      "375/375 [==============================] - 32s 87ms/step - loss: 0.1153 - val_loss: 0.1144\n",
      "Epoch 7/10\n",
      "375/375 [==============================] - 32s 84ms/step - loss: 0.1131 - val_loss: 0.1121\n",
      "Epoch 8/10\n",
      "375/375 [==============================] - 33s 89ms/step - loss: 0.1113 - val_loss: 0.1104\n",
      "Epoch 9/10\n",
      "375/375 [==============================] - 33s 88ms/step - loss: 0.1096 - val_loss: 0.1094\n",
      "Epoch 10/10\n",
      "375/375 [==============================] - 32s 85ms/step - loss: 0.1083 - val_loss: 0.1077\n",
      "1500/1500 [==============================] - 6s 4ms/step\n"
     ]
    },
    {
     "data": {
      "text/html": [
       "<style>#sk-container-id-1 {color: black;background-color: white;}#sk-container-id-1 pre{padding: 0;}#sk-container-id-1 div.sk-toggleable {background-color: white;}#sk-container-id-1 label.sk-toggleable__label {cursor: pointer;display: block;width: 100%;margin-bottom: 0;padding: 0.3em;box-sizing: border-box;text-align: center;}#sk-container-id-1 label.sk-toggleable__label-arrow:before {content: \"▸\";float: left;margin-right: 0.25em;color: #696969;}#sk-container-id-1 label.sk-toggleable__label-arrow:hover:before {color: black;}#sk-container-id-1 div.sk-estimator:hover label.sk-toggleable__label-arrow:before {color: black;}#sk-container-id-1 div.sk-toggleable__content {max-height: 0;max-width: 0;overflow: hidden;text-align: left;background-color: #f0f8ff;}#sk-container-id-1 div.sk-toggleable__content pre {margin: 0.2em;color: black;border-radius: 0.25em;background-color: #f0f8ff;}#sk-container-id-1 input.sk-toggleable__control:checked~div.sk-toggleable__content {max-height: 200px;max-width: 100%;overflow: auto;}#sk-container-id-1 input.sk-toggleable__control:checked~label.sk-toggleable__label-arrow:before {content: \"▾\";}#sk-container-id-1 div.sk-estimator input.sk-toggleable__control:checked~label.sk-toggleable__label {background-color: #d4ebff;}#sk-container-id-1 div.sk-label input.sk-toggleable__control:checked~label.sk-toggleable__label {background-color: #d4ebff;}#sk-container-id-1 input.sk-hidden--visually {border: 0;clip: rect(1px 1px 1px 1px);clip: rect(1px, 1px, 1px, 1px);height: 1px;margin: -1px;overflow: hidden;padding: 0;position: absolute;width: 1px;}#sk-container-id-1 div.sk-estimator {font-family: monospace;background-color: #f0f8ff;border: 1px dotted black;border-radius: 0.25em;box-sizing: border-box;margin-bottom: 0.5em;}#sk-container-id-1 div.sk-estimator:hover {background-color: #d4ebff;}#sk-container-id-1 div.sk-parallel-item::after {content: \"\";width: 100%;border-bottom: 1px solid gray;flex-grow: 1;}#sk-container-id-1 div.sk-label:hover label.sk-toggleable__label {background-color: #d4ebff;}#sk-container-id-1 div.sk-serial::before {content: \"\";position: absolute;border-left: 1px solid gray;box-sizing: border-box;top: 0;bottom: 0;left: 50%;z-index: 0;}#sk-container-id-1 div.sk-serial {display: flex;flex-direction: column;align-items: center;background-color: white;padding-right: 0.2em;padding-left: 0.2em;position: relative;}#sk-container-id-1 div.sk-item {position: relative;z-index: 1;}#sk-container-id-1 div.sk-parallel {display: flex;align-items: stretch;justify-content: center;background-color: white;position: relative;}#sk-container-id-1 div.sk-item::before, #sk-container-id-1 div.sk-parallel-item::before {content: \"\";position: absolute;border-left: 1px solid gray;box-sizing: border-box;top: 0;bottom: 0;left: 50%;z-index: -1;}#sk-container-id-1 div.sk-parallel-item {display: flex;flex-direction: column;z-index: 1;position: relative;background-color: white;}#sk-container-id-1 div.sk-parallel-item:first-child::after {align-self: flex-end;width: 50%;}#sk-container-id-1 div.sk-parallel-item:last-child::after {align-self: flex-start;width: 50%;}#sk-container-id-1 div.sk-parallel-item:only-child::after {width: 0;}#sk-container-id-1 div.sk-dashed-wrapped {border: 1px dashed gray;margin: 0 0.4em 0.5em 0.4em;box-sizing: border-box;padding-bottom: 0.4em;background-color: white;}#sk-container-id-1 div.sk-label label {font-family: monospace;font-weight: bold;display: inline-block;line-height: 1.2em;}#sk-container-id-1 div.sk-label-container {text-align: center;}#sk-container-id-1 div.sk-container {/* jupyter's `normalize.less` sets `[hidden] { display: none; }` but bootstrap.min.css set `[hidden] { display: none !important; }` so we also need the `!important` here to be able to override the default hidden behavior on the sphinx rendered scikit-learn.org. See: https://github.com/scikit-learn/scikit-learn/issues/21755 */display: inline-block !important;position: relative;}#sk-container-id-1 div.sk-text-repr-fallback {display: none;}</style><div id=\"sk-container-id-1\" class=\"sk-top-container\"><div class=\"sk-text-repr-fallback\"><pre>OneClassSVM(nu=0.1)</pre><b>In a Jupyter environment, please rerun this cell to show the HTML representation or trust the notebook. <br />On GitHub, the HTML representation is unable to render, please try loading this page with nbviewer.org.</b></div><div class=\"sk-container\" hidden><div class=\"sk-item\"><div class=\"sk-estimator sk-toggleable\"><input class=\"sk-toggleable__control sk-hidden--visually\" id=\"sk-estimator-id-1\" type=\"checkbox\" checked><label for=\"sk-estimator-id-1\" class=\"sk-toggleable__label sk-toggleable__label-arrow\">OneClassSVM</label><div class=\"sk-toggleable__content\"><pre>OneClassSVM(nu=0.1)</pre></div></div></div></div></div>"
      ],
      "text/plain": [
       "OneClassSVM(nu=0.1)"
      ]
     },
     "execution_count": 29,
     "metadata": {},
     "output_type": "execute_result"
    }
   ],
   "source": [
    "autoencoder.fit(X_train, X_train, epochs=10, batch_size=128, shuffle=True, validation_data=(X_test, X_test))\n",
    "\n",
    "# Encoder de l'autoencodeur (utilisé comme détecteur d'anomalies)\n",
    "encoder = Model(input_img, encoded)\n",
    "\n",
    "# Obtenir les représentations encodées des images d'entraînement\n",
    "X_train_encoded = encoder.predict(X_train)\n",
    "\n",
    "# Aplatir les représentations encodées\n",
    "X_train_encoded_flat = X_train_encoded.reshape((len(X_train_encoded), np.prod(X_train_encoded.shape[1:])))\n",
    "\n",
    "# Entraîner le modèle One-Class SVM sur les représentations encodées\n",
    "clf = OneClassSVM(nu=0.1)\n",
    "clf.fit(X_train_encoded_flat)\n"
   ]
  },
  {
   "cell_type": "markdown",
   "id": "e40a10d7-b587-407a-8709-3a644c667259",
   "metadata": {},
   "source": [
    "# Prédiction sur le jeu de test"
   ]
  },
  {
   "cell_type": "code",
   "execution_count": 30,
   "id": "6a0563b3-4aac-4a78-8d34-058cef4ecb83",
   "metadata": {},
   "outputs": [
    {
     "name": "stdout",
     "output_type": "stream",
     "text": [
      "375/375 [==============================] - 1s 4ms/step\n",
      "Accuracy on test set: 0.9006666666666666\n"
     ]
    }
   ],
   "source": [
    "\n",
    "# Prédiction sur le jeu de test\n",
    "X_test_encoded = encoder.predict(X_test)\n",
    "X_test_encoded_flat = X_test_encoded.reshape((len(X_test_encoded), np.prod(X_test_encoded.shape[1:])))\n",
    "y_pred = clf.predict(X_test_encoded_flat)\n",
    "\n",
    "# Étiquettes réelles du jeu de test\n",
    "y_true = np.ones_like(y_pred)\n",
    "\n",
    "# Évaluer la précision sur le jeu de test\n",
    "accuracy_test = accuracy_score(y_true, y_pred)\n",
    "print(f\"Accuracy on test set: {accuracy_test}\")\n"
   ]
  },
  {
   "cell_type": "code",
   "execution_count": null,
   "id": "f071f34d-ff02-46d1-b967-44258d597eff",
   "metadata": {},
   "outputs": [],
   "source": []
  }
 ],
 "metadata": {
  "kernelspec": {
   "display_name": "Python 3 (ipykernel)",
   "language": "python",
   "name": "python3"
  },
  "language_info": {
   "codemirror_mode": {
    "name": "ipython",
    "version": 3
   },
   "file_extension": ".py",
   "mimetype": "text/x-python",
   "name": "python",
   "nbconvert_exporter": "python",
   "pygments_lexer": "ipython3",
   "version": "3.10.9"
  }
 },
 "nbformat": 4,
 "nbformat_minor": 5
}
